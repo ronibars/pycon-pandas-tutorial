{
 "cells": [
  {
   "cell_type": "code",
   "execution_count": 1,
   "metadata": {},
   "outputs": [],
   "source": [
    "%matplotlib inline\n",
    "import pandas as pd\n"
   ]
  },
  {
   "cell_type": "code",
   "execution_count": 2,
   "metadata": {},
   "outputs": [
    {
     "data": {
      "text/html": [
       "<style>body {\n",
       "    margin: 0;\n",
       "    font-family: Helvetica;\n",
       "}\n",
       "table.dataframe {\n",
       "    border-collapse: collapse;\n",
       "    border: none;\n",
       "}\n",
       "table.dataframe tr {\n",
       "    border: none;\n",
       "}\n",
       "table.dataframe td, table.dataframe th {\n",
       "    margin: 0;\n",
       "    border: 1px solid white;\n",
       "    padding-left: 0.25em;\n",
       "    padding-right: 0.25em;\n",
       "}\n",
       "table.dataframe th:not(:empty) {\n",
       "    background-color: #fec;\n",
       "    text-align: left;\n",
       "    font-weight: normal;\n",
       "}\n",
       "table.dataframe tr:nth-child(2) th:empty {\n",
       "    border-left: none;\n",
       "    border-right: 1px dashed #888;\n",
       "}\n",
       "table.dataframe td {\n",
       "    border: 2px solid #ccf;\n",
       "    background-color: #f4f4ff;\n",
       "}\n",
       "h3 {\n",
       "    color: white;\n",
       "    background-color: black;\n",
       "    padding: 0.5em;\n",
       "}\n",
       "</style>"
      ],
      "text/plain": [
       "<IPython.core.display.HTML object>"
      ]
     },
     "execution_count": 2,
     "metadata": {},
     "output_type": "execute_result"
    }
   ],
   "source": [
    "from IPython.core.display import HTML\n",
    "css = open('style-table.css').read() + open('style-notebook.css').read()\n",
    "HTML('<style>{}</style>'.format(css))"
   ]
  },
  {
   "cell_type": "code",
   "execution_count": 3,
   "metadata": {},
   "outputs": [
    {
     "data": {
      "text/html": [
       "<div>\n",
       "<style scoped>\n",
       "    .dataframe tbody tr th:only-of-type {\n",
       "        vertical-align: middle;\n",
       "    }\n",
       "\n",
       "    .dataframe tbody tr th {\n",
       "        vertical-align: top;\n",
       "    }\n",
       "\n",
       "    .dataframe thead th {\n",
       "        text-align: right;\n",
       "    }\n",
       "</style>\n",
       "<table border=\"1\" class=\"dataframe\">\n",
       "  <thead>\n",
       "    <tr style=\"text-align: right;\">\n",
       "      <th></th>\n",
       "      <th>title</th>\n",
       "      <th>year</th>\n",
       "    </tr>\n",
       "  </thead>\n",
       "  <tbody>\n",
       "    <tr>\n",
       "      <th>0</th>\n",
       "      <td>A Trip to the Moon</td>\n",
       "      <td>2017</td>\n",
       "    </tr>\n",
       "    <tr>\n",
       "      <th>1</th>\n",
       "      <td>My Wife's Relatives</td>\n",
       "      <td>1939</td>\n",
       "    </tr>\n",
       "    <tr>\n",
       "      <th>2</th>\n",
       "      <td>Passione d'amore</td>\n",
       "      <td>1981</td>\n",
       "    </tr>\n",
       "    <tr>\n",
       "      <th>3</th>\n",
       "      <td>Purple Day</td>\n",
       "      <td>1999</td>\n",
       "    </tr>\n",
       "    <tr>\n",
       "      <th>4</th>\n",
       "      <td>Sud Side Stori</td>\n",
       "      <td>2000</td>\n",
       "    </tr>\n",
       "  </tbody>\n",
       "</table>\n",
       "</div>"
      ],
      "text/plain": [
       "                 title  year\n",
       "0   A Trip to the Moon  2017\n",
       "1  My Wife's Relatives  1939\n",
       "2     Passione d'amore  1981\n",
       "3           Purple Day  1999\n",
       "4       Sud Side Stori  2000"
      ]
     },
     "execution_count": 3,
     "metadata": {},
     "output_type": "execute_result"
    }
   ],
   "source": [
    "titles = pd.read_csv('D:\\Downloads\\pycon-pandas-tutorial-master\\data/titles.csv')\n",
    "titles.head()"
   ]
  },
  {
   "cell_type": "code",
   "execution_count": 4,
   "metadata": {},
   "outputs": [
    {
     "data": {
      "text/html": [
       "<div>\n",
       "<style scoped>\n",
       "    .dataframe tbody tr th:only-of-type {\n",
       "        vertical-align: middle;\n",
       "    }\n",
       "\n",
       "    .dataframe tbody tr th {\n",
       "        vertical-align: top;\n",
       "    }\n",
       "\n",
       "    .dataframe thead th {\n",
       "        text-align: right;\n",
       "    }\n",
       "</style>\n",
       "<table border=\"1\" class=\"dataframe\">\n",
       "  <thead>\n",
       "    <tr style=\"text-align: right;\">\n",
       "      <th></th>\n",
       "      <th>title</th>\n",
       "      <th>year</th>\n",
       "      <th>name</th>\n",
       "      <th>type</th>\n",
       "      <th>character</th>\n",
       "      <th>n</th>\n",
       "    </tr>\n",
       "  </thead>\n",
       "  <tbody>\n",
       "    <tr>\n",
       "      <th>0</th>\n",
       "      <td>Closet Monster</td>\n",
       "      <td>2015</td>\n",
       "      <td>Buffy #1</td>\n",
       "      <td>actor</td>\n",
       "      <td>Buffy 4</td>\n",
       "      <td>31.0</td>\n",
       "    </tr>\n",
       "    <tr>\n",
       "      <th>1</th>\n",
       "      <td>Suuri illusioni</td>\n",
       "      <td>1985</td>\n",
       "      <td>Homo $</td>\n",
       "      <td>actor</td>\n",
       "      <td>Guests</td>\n",
       "      <td>22.0</td>\n",
       "    </tr>\n",
       "    <tr>\n",
       "      <th>2</th>\n",
       "      <td>Battle of the Sexes</td>\n",
       "      <td>2017</td>\n",
       "      <td>$hutter</td>\n",
       "      <td>actor</td>\n",
       "      <td>Bobby Riggs Fan</td>\n",
       "      <td>10.0</td>\n",
       "    </tr>\n",
       "    <tr>\n",
       "      <th>3</th>\n",
       "      <td>Secret in Their Eyes</td>\n",
       "      <td>2015</td>\n",
       "      <td>$hutter</td>\n",
       "      <td>actor</td>\n",
       "      <td>2002 Dodger Fan</td>\n",
       "      <td>NaN</td>\n",
       "    </tr>\n",
       "    <tr>\n",
       "      <th>4</th>\n",
       "      <td>Steve Jobs</td>\n",
       "      <td>2015</td>\n",
       "      <td>$hutter</td>\n",
       "      <td>actor</td>\n",
       "      <td>1988 Opera House Patron</td>\n",
       "      <td>NaN</td>\n",
       "    </tr>\n",
       "  </tbody>\n",
       "</table>\n",
       "</div>"
      ],
      "text/plain": [
       "                  title  year      name   type                character     n\n",
       "0        Closet Monster  2015  Buffy #1  actor                  Buffy 4  31.0\n",
       "1       Suuri illusioni  1985    Homo $  actor                   Guests  22.0\n",
       "2   Battle of the Sexes  2017   $hutter  actor          Bobby Riggs Fan  10.0\n",
       "3  Secret in Their Eyes  2015   $hutter  actor          2002 Dodger Fan   NaN\n",
       "4            Steve Jobs  2015   $hutter  actor  1988 Opera House Patron   NaN"
      ]
     },
     "execution_count": 4,
     "metadata": {},
     "output_type": "execute_result"
    }
   ],
   "source": [
    "cast = pd.read_csv('D:\\Downloads\\pycon-pandas-tutorial-master\\data\\cast.csv')\n",
    "cast.head()"
   ]
  },
  {
   "cell_type": "markdown",
   "metadata": {
    "collapsed": true
   },
   "source": [
    "### How many movies are listed in the titles dataframe?"
   ]
  },
  {
   "cell_type": "code",
   "execution_count": 5,
   "metadata": {
    "collapsed": true
   },
   "outputs": [
    {
     "name": "stdout",
     "output_type": "stream",
     "text": [
      "Total no. of movies: 207630\n"
     ]
    }
   ],
   "source": [
    "number_of_movies = titles['title'].nunique()\n",
    "print(f'Total no. of movies: {number_of_movies}')"
   ]
  },
  {
   "cell_type": "markdown",
   "metadata": {
    "collapsed": true
   },
   "source": [
    "### What are the earliest two films listed in the titles dataframe?"
   ]
  },
  {
   "cell_type": "code",
   "execution_count": 6,
   "metadata": {
    "collapsed": true
   },
   "outputs": [
    {
     "name": "stdout",
     "output_type": "stream",
     "text": [
      "             title  year\n",
      "        Miss Jerry  1894\n",
      "The Startled Lover  1898\n"
     ]
    }
   ],
   "source": [
    "earliest = titles.sort_values('year', ascending=True).head(2)\n",
    "print(earliest.to_string(index=False))"
   ]
  },
  {
   "cell_type": "markdown",
   "metadata": {
    "collapsed": true
   },
   "source": [
    "### How many movies have the single-word title \"Hamlet\"?"
   ]
  },
  {
   "cell_type": "code",
   "execution_count": 7,
   "metadata": {
    "collapsed": true
   },
   "outputs": [
    {
     "name": "stdout",
     "output_type": "stream",
     "text": [
      "No. of movies with hamlet in the title: 55\n"
     ]
    }
   ],
   "source": [
    "hamlet_appearances = titles['title'].str.contains('Hamlet', case=False).sum()\n",
    "print(f'No. of movies with hamlet in the title: {hamlet_appearances}')"
   ]
  },
  {
   "cell_type": "markdown",
   "metadata": {
    "collapsed": true
   },
   "source": [
    "### How many movies are titled \"North by Northwest\"?"
   ]
  },
  {
   "cell_type": "code",
   "execution_count": 8,
   "metadata": {
    "collapsed": true
   },
   "outputs": [
    {
     "name": "stdout",
     "output_type": "stream",
     "text": [
      "No. of movies titled \"North by Northwest\": 1\n"
     ]
    }
   ],
   "source": [
    "north_by_northwest = titles.value_counts(subset='title').loc['North by Northwest']\n",
    "print(f'No. of movies titled \"North by Northwest\": {north_by_northwest}')"
   ]
  },
  {
   "cell_type": "markdown",
   "metadata": {
    "collapsed": true
   },
   "source": [
    "### When was the first movie titled \"Hamlet\" made?"
   ]
  },
  {
   "cell_type": "code",
   "execution_count": 9,
   "metadata": {
    "collapsed": true
   },
   "outputs": [
    {
     "name": "stdout",
     "output_type": "stream",
     "text": [
      " title  year\n",
      "Hamlet  1910\n"
     ]
    }
   ],
   "source": [
    "first_hamlet = (titles[titles['title'].str.contains('hamlet', case=False, na=False)]\n",
    "                .sort_values('year')\n",
    "                .head(1))\n",
    "print(first_hamlet.to_string(index=False))"
   ]
  },
  {
   "cell_type": "markdown",
   "metadata": {
    "collapsed": true
   },
   "source": [
    "### List all of the \"Treasure Island\" movies from earliest to most recent."
   ]
  },
  {
   "cell_type": "code",
   "execution_count": 10,
   "metadata": {
    "collapsed": true
   },
   "outputs": [
    {
     "name": "stdout",
     "output_type": "stream",
     "text": [
      "                                               title  year\n",
      "                                     Treasure Island  1918\n",
      "                                     Treasure Island  1920\n",
      "                                     Treasure Island  1934\n",
      "                       The Secret of Treasure Island  1938\n",
      "                                     Treasure Island  1950\n",
      "                           Return to Treasure Island  1954\n",
      "                           Five on a Treasure Island  1957\n",
      "                                     Treasure Island  1972\n",
      "                                     Treasure Island  1973\n",
      "                                     Treasure Island  1985\n",
      "                              Muppet Treasure Island  1996\n",
      "                                Treasure Island (II)  1999\n",
      "                                     Treasure Island  1999\n",
      "Treasure Island Kids: The Mystery of Treasure Island  2006\n",
      " Treasure Island Kids: The Battle of Treasure Island  2006\n",
      "                          Pirates of Treasure Island  2006\n",
      "Treasure Island Kids: The Monster of Treasure Island  2006\n",
      "              National Theatre Live: Treasure Island  2015\n"
     ]
    }
   ],
   "source": [
    "treasure_island = (titles[titles['title'].str.contains('treasure island', case=False, na=False)]\n",
    "                   .sort_values('year', ascending=True))\n",
    "print(treasure_island.to_string(index=False))"
   ]
  },
  {
   "cell_type": "markdown",
   "metadata": {
    "collapsed": true
   },
   "source": [
    "### How many movies were made in the year 1950?"
   ]
  },
  {
   "cell_type": "code",
   "execution_count": 11,
   "metadata": {
    "collapsed": true
   },
   "outputs": [
    {
     "name": "stdout",
     "output_type": "stream",
     "text": [
      "Total no. of movies made in 1950: 1109 movies\n"
     ]
    }
   ],
   "source": [
    "movies_1950 = (titles[titles['year'] == 1950]\n",
    "               .value_counts(subset='title')\n",
    "               .sum())\n",
    "print(f'Total no. of movies made in 1950: {movies_1950} movies')"
   ]
  },
  {
   "cell_type": "markdown",
   "metadata": {
    "collapsed": true
   },
   "source": [
    "### How many movies were made in the year 1960?"
   ]
  },
  {
   "cell_type": "code",
   "execution_count": 12,
   "metadata": {
    "collapsed": true
   },
   "outputs": [
    {
     "name": "stdout",
     "output_type": "stream",
     "text": [
      "Total no. of movies made in 1960: 1496 movies\n"
     ]
    }
   ],
   "source": [
    "movies_1960 = (titles[titles['year'] == 1960]\n",
    "               .value_counts(subset='title')\n",
    "               .sum())\n",
    "print(f'Total no. of movies made in 1960: {movies_1960} movies')"
   ]
  },
  {
   "cell_type": "markdown",
   "metadata": {
    "collapsed": true
   },
   "source": [
    "### How many movies were made from 1950 through 1959?"
   ]
  },
  {
   "cell_type": "code",
   "execution_count": 13,
   "metadata": {
    "collapsed": true
   },
   "outputs": [
    {
     "name": "stdout",
     "output_type": "stream",
     "text": [
      "Total no. of movies made from 1950 to 1959: 12664 movies\n"
     ]
    }
   ],
   "source": [
    "movies_1950_1959 = (titles[(titles['year'].between(1950, 1959))]\n",
    "                    .value_counts(subset='title')\n",
    "                    .sum())\n",
    "print(f'Total no. of movies made from 1950 to 1959: {movies_1950_1959} movies')"
   ]
  },
  {
   "cell_type": "markdown",
   "metadata": {
    "collapsed": true
   },
   "source": [
    "### In what years has a movie titled \"Batman\" been released?"
   ]
  },
  {
   "cell_type": "code",
   "execution_count": 14,
   "metadata": {
    "collapsed": true
   },
   "outputs": [
    {
     "name": "stdout",
     "output_type": "stream",
     "text": [
      " year\n",
      " 1943\n",
      " 1989\n"
     ]
    }
   ],
   "source": [
    "batman_movies = (titles[titles['title'] == 'Batman']\n",
    "                .loc[:, ['year']])\n",
    "print(batman_movies.to_string(index=False))"
   ]
  },
  {
   "cell_type": "markdown",
   "metadata": {
    "collapsed": true
   },
   "source": [
    "### How many roles were there in the movie \"Inception\"?"
   ]
  },
  {
   "cell_type": "code",
   "execution_count": 15,
   "metadata": {
    "collapsed": true
   },
   "outputs": [
    {
     "name": "stdout",
     "output_type": "stream",
     "text": [
      "Number of roles in Incention: 78\n"
     ]
    }
   ],
   "source": [
    "inception_roles_no = (cast[cast['title'] == 'Inception']\n",
    "                      .value_counts(subset='character')\n",
    "                      .sum())\n",
    "print(f'Number of roles in Incention: {inception_roles_no}')\n"
   ]
  },
  {
   "cell_type": "markdown",
   "metadata": {
    "collapsed": true
   },
   "source": [
    "### How many roles in the movie \"Inception\" are NOT ranked by an \"n\" value?"
   ]
  },
  {
   "cell_type": "code",
   "execution_count": 16,
   "metadata": {
    "collapsed": true
   },
   "outputs": [
    {
     "name": "stdout",
     "output_type": "stream",
     "text": [
      "Number of unranked roles in Inception: 27\n"
     ]
    }
   ],
   "source": [
    "unranked_inception = (cast[(cast['title'] == 'Inception') \n",
    "                           & (cast['n'].isnull())]\n",
    "                      .value_counts(subset='character')\n",
    "                      .sum())\n",
    "print(f'Number of unranked roles in Inception: {unranked_inception}')"
   ]
  },
  {
   "cell_type": "markdown",
   "metadata": {
    "collapsed": true
   },
   "source": [
    "### But how many roles in the movie \"Inception\" did receive an \"n\" value?"
   ]
  },
  {
   "cell_type": "code",
   "execution_count": 17,
   "metadata": {
    "collapsed": true
   },
   "outputs": [
    {
     "name": "stdout",
     "output_type": "stream",
     "text": [
      "Number of unranked roles in Inception: 51\n"
     ]
    }
   ],
   "source": [
    "ranked_inception = (cast[(cast['title'] == 'Inception') \n",
    "                         & (cast['n'].notnull())]\n",
    "                    .value_counts(subset='character')\n",
    "                    .sum())\n",
    "print(f'Number of unranked roles in Inception: {ranked_inception}')"
   ]
  },
  {
   "cell_type": "markdown",
   "metadata": {
    "collapsed": true
   },
   "source": [
    "### Display the cast of \"North by Northwest\" in their correct \"n\"-value order, ignoring roles that did not earn a numeric \"n\" value."
   ]
  },
  {
   "cell_type": "code",
   "execution_count": 18,
   "metadata": {
    "collapsed": true
   },
   "outputs": [
    {
     "name": "stdout",
     "output_type": "stream",
     "text": [
      "             title  year                 name    type                   character    n\n",
      "North by Northwest  1959           Cary Grant   actor          Roger O. Thornhill  1.0\n",
      "North by Northwest  1959      Eva Marie Saint actress                 Eve Kendall  2.0\n",
      "North by Northwest  1959          James Mason   actor             Phillip Vandamm  3.0\n",
      "North by Northwest  1959  Jessie Royce Landis actress             Clara Thornhill  4.0\n",
      "North by Northwest  1959       Leo G. Carroll   actor               The Professor  5.0\n",
      "North by Northwest  1959 Josephine Hutchinson actress               Mrs. Townsend  6.0\n",
      "North by Northwest  1959          Philip Ober   actor             Lester Townsend  7.0\n",
      "North by Northwest  1959        Martin Landau   actor                     Leonard  8.0\n",
      "North by Northwest  1959        Adam Williams   actor                    Valerian  9.0\n",
      "North by Northwest  1959         Edward Platt   actor             Victor Larrabee 10.0\n",
      "North by Northwest  1959    Robert Ellenstein   actor                       Licht 11.0\n",
      "North by Northwest  1959         Les Tremayne   actor                  Auctioneer 12.0\n",
      "North by Northwest  1959      Philip Coolidge   actor                   Dr. Cross 13.0\n",
      "North by Northwest  1959        Patrick McVey   actor              Sergeant Flamm 14.0\n",
      "North by Northwest  1959         Edward Binns   actor              Captain Junket 15.0\n",
      "North by Northwest  1959            Ken Lynch   actor Charley - Chicago Policeman 16.0\n"
     ]
    }
   ],
   "source": [
    "north_by_northwest_cast = (cast[(cast['title'] == 'North by Northwest') \n",
    "                                & (cast['n'].notnull())]\n",
    "                           .sort_values('n'))\n",
    "print(north_by_northwest_cast.to_string(index=False))"
   ]
  },
  {
   "cell_type": "markdown",
   "metadata": {
    "collapsed": true
   },
   "source": [
    "### Display the entire cast, in \"n\"-order, of the 1972 film \"Sleuth\"."
   ]
  },
  {
   "cell_type": "code",
   "execution_count": 19,
   "metadata": {
    "collapsed": true
   },
   "outputs": [
    {
     "name": "stdout",
     "output_type": "stream",
     "text": [
      " title  year               name    type                  character   n\n",
      "Sleuth  1972   Laurence Olivier   actor                Andrew Wyke 1.0\n",
      "Sleuth  1972      Michael Caine   actor                Milo Tindle 2.0\n",
      "Sleuth  1972     Alec Cawthorne   actor          Inspector Doppler 3.0\n",
      "Sleuth  1972 John (II) Matthews   actor Detective Sergeant Tarrant 4.0\n",
      "Sleuth  1972 Eve (III) Channing actress            Marguerite Wyke 5.0\n",
      "Sleuth  1972       Teddy Martin   actor     Police Constable Higgs 6.0\n"
     ]
    }
   ],
   "source": [
    "sleuth_1972_cast = (cast[(cast['title'] == 'Sleuth') \n",
    "                         & (cast['year'] == 1972)]\n",
    "                    .sort_values('n'))\n",
    "print(sleuth_1972_cast.to_string(index=False))"
   ]
  },
  {
   "cell_type": "markdown",
   "metadata": {
    "collapsed": true
   },
   "source": [
    "### Now display the entire cast, in \"n\"-order, of the 2007 version of \"Sleuth\"."
   ]
  },
  {
   "cell_type": "code",
   "execution_count": 20,
   "metadata": {
    "collapsed": true
   },
   "outputs": [
    {
     "name": "stdout",
     "output_type": "stream",
     "text": [
      " title  year                name    type         character   n\n",
      "Sleuth  2007       Michael Caine   actor            Andrew 1.0\n",
      "Sleuth  2007            Jude Law   actor              Milo 2.0\n",
      "Sleuth  2007       Harold Pinter   actor       Man on T.V. 3.0\n",
      "Sleuth  2007     Kenneth Branagh   actor Other Man on T.V. NaN\n",
      "Sleuth  2007 Alec (II) Cawthorne   actor Inspector Doppler NaN\n",
      "Sleuth  2007   Eve (II) Channing actress   Marguerite Wyke NaN\n",
      "Sleuth  2007   Carmel O'Sullivan actress            Maggie NaN\n"
     ]
    }
   ],
   "source": [
    "sleuth_2007_cast = (cast[(cast['title'] == 'Sleuth') \n",
    "                         & (cast['year'] == 2007)]\n",
    "                    .sort_values('n'))\n",
    "print(sleuth_2007_cast.to_string(index=False))"
   ]
  },
  {
   "cell_type": "markdown",
   "metadata": {
    "collapsed": true
   },
   "source": [
    "### How many roles were credited in the silent 1921 version of Hamlet?"
   ]
  },
  {
   "cell_type": "code",
   "execution_count": 21,
   "metadata": {
    "collapsed": true
   },
   "outputs": [
    {
     "name": "stdout",
     "output_type": "stream",
     "text": [
      "Number of actors in the 1921 version of Hamlet: 9\n"
     ]
    }
   ],
   "source": [
    "hamlet_1921 = (cast[(cast['title'] == 'Hamlet') \n",
    "                    & (cast['year'] == 1921)]\n",
    "               .value_counts(subset='name')\n",
    "               .sum())\n",
    "print(f'Number of actors in the 1921 version of Hamlet: {hamlet_1921}')"
   ]
  },
  {
   "cell_type": "markdown",
   "metadata": {
    "collapsed": true
   },
   "source": [
    "### How many roles were credited in Branagh’s 1996 Hamlet?"
   ]
  },
  {
   "cell_type": "code",
   "execution_count": 22,
   "metadata": {
    "collapsed": true
   },
   "outputs": [
    {
     "name": "stdout",
     "output_type": "stream",
     "text": [
      "Number of actors in the 1996 version of Hamlet: 54\n"
     ]
    }
   ],
   "source": [
    "hamlet_1996 = (cast[(cast['title'] == 'Hamlet') \n",
    "                    & (cast['year'] == 1996)]\n",
    "               .value_counts(subset='name')\n",
    "               .sum())\n",
    "print(f'Number of actors in the 1996 version of Hamlet: {hamlet_1996}')"
   ]
  },
  {
   "cell_type": "markdown",
   "metadata": {
    "collapsed": true
   },
   "source": [
    "### How many \"Hamlet\" roles have been listed in all film credits through history?"
   ]
  },
  {
   "cell_type": "code",
   "execution_count": 23,
   "metadata": {
    "collapsed": true
   },
   "outputs": [
    {
     "name": "stdout",
     "output_type": "stream",
     "text": [
      "Number of roles in all Hamlet movies: 342\n"
     ]
    }
   ],
   "source": [
    "hamlet_roles = (cast[cast['title'] == 'Hamlet']\n",
    "                .value_counts(subset='character')\n",
    "                .sum())\n",
    "print(f'Number of roles in all Hamlet movies: {hamlet_roles}')"
   ]
  },
  {
   "cell_type": "markdown",
   "metadata": {
    "collapsed": true
   },
   "source": [
    "### How many people have played an \"Ophelia\"?"
   ]
  },
  {
   "cell_type": "code",
   "execution_count": 24,
   "metadata": {
    "collapsed": true
   },
   "outputs": [
    {
     "name": "stdout",
     "output_type": "stream",
     "text": [
      "Number of actresses who played Ophelia: 101\n"
     ]
    }
   ],
   "source": [
    "ophelia_roles =(cast[cast['character'] == 'Ophelia']\n",
    "                ['name'].nunique())\n",
    "print(f'Number of actresses who played Ophelia: {ophelia_roles}')\n"
   ]
  },
  {
   "cell_type": "markdown",
   "metadata": {
    "collapsed": true
   },
   "source": [
    "### How many people have played a role called \"The Dude\"?"
   ]
  },
  {
   "cell_type": "code",
   "execution_count": 25,
   "metadata": {
    "collapsed": true
   },
   "outputs": [
    {
     "name": "stdout",
     "output_type": "stream",
     "text": [
      "Number of actors who played the role of \"The Dude\": 17\n"
     ]
    }
   ],
   "source": [
    "the_dude_roles = (cast.loc[cast['character'] == 'The Dude']\n",
    "                  ['name'].nunique())\n",
    "print(f'Number of actors who played the role of \"The Dude\": {the_dude_roles}')"
   ]
  },
  {
   "cell_type": "markdown",
   "metadata": {
    "collapsed": true
   },
   "source": [
    "### How many people have played a role called \"The Stranger\"?"
   ]
  },
  {
   "cell_type": "code",
   "execution_count": 26,
   "metadata": {
    "collapsed": true
   },
   "outputs": [
    {
     "name": "stdout",
     "output_type": "stream",
     "text": [
      "Number of actors who played the role of \"The Stranger\": 160\n"
     ]
    }
   ],
   "source": [
    "the_stranger_roles = (cast.loc[cast['character'] == 'The Stranger']\n",
    "                  ['name'].nunique())\n",
    "print(f'Number of actors who played the role of \"The Stranger\": {the_stranger_roles}')"
   ]
  },
  {
   "cell_type": "markdown",
   "metadata": {
    "collapsed": true
   },
   "source": [
    "### How many roles has Sidney Poitier played throughout his career?"
   ]
  },
  {
   "cell_type": "code",
   "execution_count": 27,
   "metadata": {
    "collapsed": true
   },
   "outputs": [
    {
     "name": "stdout",
     "output_type": "stream",
     "text": [
      "Number of roles Sidney Poiter has played: 43\n"
     ]
    }
   ],
   "source": [
    "sidney_poitier_roles = (cast.loc[cast['name'] == 'Sidney Poitier']\n",
    "                        .value_counts(subset='character')\n",
    "                        .sum())\n",
    "print(f'Number of roles Sidney Poiter has played: {sidney_poitier_roles}')"
   ]
  },
  {
   "cell_type": "markdown",
   "metadata": {
    "collapsed": true
   },
   "source": [
    "### How many roles has Judi Dench played?"
   ]
  },
  {
   "cell_type": "code",
   "execution_count": 28,
   "metadata": {
    "collapsed": true
   },
   "outputs": [
    {
     "name": "stdout",
     "output_type": "stream",
     "text": [
      "Number of roles Judi Dench has played: 55\n"
     ]
    }
   ],
   "source": [
    "judi_dench_roles = (cast.loc[cast['name'] == 'Judi Dench']\n",
    "                        .value_counts(subset='character')\n",
    "                        .sum())\n",
    "print(f'Number of roles Judi Dench has played: {judi_dench_roles}')"
   ]
  },
  {
   "cell_type": "markdown",
   "metadata": {
    "collapsed": true
   },
   "source": [
    "### List the supporting roles (having n=2) played by Cary Grant in the 1940s, in order by year."
   ]
  },
  {
   "cell_type": "code",
   "execution_count": 29,
   "metadata": {
    "collapsed": true
   },
   "outputs": [
    {
     "name": "stdout",
     "output_type": "stream",
     "text": [
      "Roles Cary Grant played in the 1940s where he was not the lead actor\n",
      "           title  year\n",
      "My Favorite Wife  1940\n",
      "  Penny Serenade  1941\n"
     ]
    }
   ],
   "source": [
    "cary_grant_1940_roles = (cast.loc[(cast['name'] == 'Cary Grant') \n",
    "                                  & (cast['n'] == 2)\n",
    "                                  & (cast['year'].between(1940, 1949))\n",
    "                                  ,['title', 'year']]\n",
    "                            .sort_values('year'))\n",
    "print('Roles Cary Grant played in the 1940s where he was not the lead actor')\n",
    "print(cary_grant_1940_roles.to_string(index=False))\n"
   ]
  },
  {
   "cell_type": "markdown",
   "metadata": {
    "collapsed": true
   },
   "source": [
    "### List the leading roles that Cary Grant played in the 1940s in order by year."
   ]
  },
  {
   "cell_type": "code",
   "execution_count": 30,
   "metadata": {
    "collapsed": true
   },
   "outputs": [
    {
     "name": "stdout",
     "output_type": "stream",
     "text": [
      "Cary Grant lead roles in the 1940s\n",
      "                               title  year\n",
      "                     His Girl Friday  1940\n",
      "             The Howards of Virginia  1940\n",
      "              The Philadelphia Story  1940\n",
      "                           Suspicion  1941\n",
      "                The Talk of the Town  1942\n",
      "               Once Upon a Honeymoon  1942\n",
      "                           Mr. Lucky  1943\n",
      "                   Destination Tokyo  1943\n",
      "                    Once Upon a Time  1944\n",
      "                Arsenic and Old Lace  1944\n",
      "           None But the Lonely Heart  1944\n",
      "                           Notorious  1946\n",
      "                       Night and Day  1946\n",
      "    The Bachelor and the Bobby-Soxer  1947\n",
      "                   The Bishop's Wife  1947\n",
      "        Every Girl Should Be Married  1948\n",
      "Mr. Blandings Builds His Dream House  1948\n",
      "              I Was a Male War Bride  1949\n"
     ]
    }
   ],
   "source": [
    "cary_grant_1940_lead = (cast.loc[(cast['name'] == 'Cary Grant')\n",
    "                                 & (cast['year'].between(1940, 1949))\n",
    "                                           & (cast['n'] == 1)\n",
    "                                           , ['title', 'year']]\n",
    "                                           .sort_values('year'))\n",
    "print('Cary Grant lead roles in the 1940s')\n",
    "print(cary_grant_1940_lead.to_string(index=False))"
   ]
  },
  {
   "cell_type": "markdown",
   "metadata": {
    "collapsed": true
   },
   "source": [
    "### How many roles were available for actors in the 1950s?"
   ]
  },
  {
   "cell_type": "code",
   "execution_count": 31,
   "metadata": {
    "collapsed": true
   },
   "outputs": [
    {
     "name": "stdout",
     "output_type": "stream",
     "text": [
      "Available actor roles in the 1950s: 153559 roles\n"
     ]
    }
   ],
   "source": [
    "unique_actor_roles_1950s = (cast.loc[(cast['year'].between(1950, 1959))\n",
    "                               & (cast['type'] == 'actor')\n",
    "                               , 'character']\n",
    "                      .value_counts()\n",
    "                      .sum())\n",
    "print(f'Available actor roles in the 1950s: {unique_actor_roles_1950s} roles')"
   ]
  },
  {
   "cell_type": "markdown",
   "metadata": {
    "collapsed": true
   },
   "source": [
    "### How many roles were available for actresses in the 1950s?"
   ]
  },
  {
   "cell_type": "code",
   "execution_count": 32,
   "metadata": {
    "collapsed": true
   },
   "outputs": [
    {
     "name": "stdout",
     "output_type": "stream",
     "text": [
      "Available actress roles in the 1950s: 56331 roles\n"
     ]
    }
   ],
   "source": [
    "unique_actress_roles_1950s = (cast.loc[(cast['year'].between(1950, 1959))\n",
    "                               & (cast['type'] == 'actress')\n",
    "                               , 'character']\n",
    "                      .value_counts()\n",
    "                      .sum())\n",
    "print(f'Available actress roles in the 1950s: {unique_actress_roles_1950s} roles')"
   ]
  },
  {
   "cell_type": "markdown",
   "metadata": {
    "collapsed": true
   },
   "source": [
    "### How many leading roles (n=1) were available from the beginning of film history through 1980?"
   ]
  },
  {
   "cell_type": "code",
   "execution_count": 33,
   "metadata": {
    "collapsed": true
   },
   "outputs": [
    {
     "name": "stdout",
     "output_type": "stream",
     "text": [
      "Available leading roles until 1980: 62763\n"
     ]
    }
   ],
   "source": [
    "leading_roles = (cast.loc[(cast['n'] == 1)\n",
    "                          & (cast['year'] <= 1980)]\n",
    "                          .value_counts()\n",
    "                          .sum())\n",
    "print(f'Available leading roles until 1980: {leading_roles}')"
   ]
  },
  {
   "cell_type": "markdown",
   "metadata": {
    "collapsed": true
   },
   "source": [
    "### How many non-leading roles were available through from the beginning of film history through 1980?"
   ]
  },
  {
   "cell_type": "code",
   "execution_count": 34,
   "metadata": {
    "collapsed": true
   },
   "outputs": [
    {
     "data": {
      "text/html": [
       "<div>\n",
       "<style scoped>\n",
       "    .dataframe tbody tr th:only-of-type {\n",
       "        vertical-align: middle;\n",
       "    }\n",
       "\n",
       "    .dataframe tbody tr th {\n",
       "        vertical-align: top;\n",
       "    }\n",
       "\n",
       "    .dataframe thead th {\n",
       "        text-align: right;\n",
       "    }\n",
       "</style>\n",
       "<table border=\"1\" class=\"dataframe\">\n",
       "  <thead>\n",
       "    <tr style=\"text-align: right;\">\n",
       "      <th></th>\n",
       "      <th>title</th>\n",
       "      <th>year</th>\n",
       "      <th>name</th>\n",
       "      <th>type</th>\n",
       "      <th>character</th>\n",
       "      <th>n</th>\n",
       "    </tr>\n",
       "  </thead>\n",
       "  <tbody>\n",
       "    <tr>\n",
       "      <th>0</th>\n",
       "      <td>Closet Monster</td>\n",
       "      <td>2015</td>\n",
       "      <td>Buffy #1</td>\n",
       "      <td>actor</td>\n",
       "      <td>Buffy 4</td>\n",
       "      <td>31.0</td>\n",
       "    </tr>\n",
       "    <tr>\n",
       "      <th>1</th>\n",
       "      <td>Suuri illusioni</td>\n",
       "      <td>1985</td>\n",
       "      <td>Homo $</td>\n",
       "      <td>actor</td>\n",
       "      <td>Guests</td>\n",
       "      <td>22.0</td>\n",
       "    </tr>\n",
       "    <tr>\n",
       "      <th>2</th>\n",
       "      <td>Battle of the Sexes</td>\n",
       "      <td>2017</td>\n",
       "      <td>$hutter</td>\n",
       "      <td>actor</td>\n",
       "      <td>Bobby Riggs Fan</td>\n",
       "      <td>10.0</td>\n",
       "    </tr>\n",
       "    <tr>\n",
       "      <th>3</th>\n",
       "      <td>Secret in Their Eyes</td>\n",
       "      <td>2015</td>\n",
       "      <td>$hutter</td>\n",
       "      <td>actor</td>\n",
       "      <td>2002 Dodger Fan</td>\n",
       "      <td>NaN</td>\n",
       "    </tr>\n",
       "    <tr>\n",
       "      <th>4</th>\n",
       "      <td>Steve Jobs</td>\n",
       "      <td>2015</td>\n",
       "      <td>$hutter</td>\n",
       "      <td>actor</td>\n",
       "      <td>1988 Opera House Patron</td>\n",
       "      <td>NaN</td>\n",
       "    </tr>\n",
       "  </tbody>\n",
       "</table>\n",
       "</div>"
      ],
      "text/plain": [
       "                  title  year      name   type                character     n\n",
       "0        Closet Monster  2015  Buffy #1  actor                  Buffy 4  31.0\n",
       "1       Suuri illusioni  1985    Homo $  actor                   Guests  22.0\n",
       "2   Battle of the Sexes  2017   $hutter  actor          Bobby Riggs Fan  10.0\n",
       "3  Secret in Their Eyes  2015   $hutter  actor          2002 Dodger Fan   NaN\n",
       "4            Steve Jobs  2015   $hutter  actor  1988 Opera House Patron   NaN"
      ]
     },
     "execution_count": 34,
     "metadata": {},
     "output_type": "execute_result"
    }
   ],
   "source": [
    "cast.head()"
   ]
  },
  {
   "cell_type": "code",
   "execution_count": 35,
   "metadata": {
    "collapsed": true
   },
   "outputs": [
    {
     "name": "stdout",
     "output_type": "stream",
     "text": [
      "Available supporting roles until 1980: 640923\n"
     ]
    }
   ],
   "source": [
    "non_leading_roles = (cast.loc[(cast['n'] != 1)\n",
    "                              & (cast['year'] <= 1980)] \n",
    "                              .value_counts()\n",
    "                              .sum())\n",
    "print(f'Available supporting roles until 1980: {non_leading_roles}')"
   ]
  },
  {
   "cell_type": "markdown",
   "metadata": {
    "collapsed": true
   },
   "source": [
    "### How many roles through 1980 were minor enough that they did not warrant a numeric \"n\" rank?"
   ]
  },
  {
   "cell_type": "code",
   "execution_count": 36,
   "metadata": {
    "collapsed": true
   },
   "outputs": [
    {
     "name": "stdout",
     "output_type": "stream",
     "text": [
      "Number of roles for minors: 1327783 roles\n"
     ]
    }
   ],
   "source": [
    "minor_roles = (cast['n'].isnull()\n",
    "               .sum())\n",
    "print(f'Number of roles for minors: {minor_roles} roles')"
   ]
  }
 ],
 "metadata": {
  "kernelspec": {
   "display_name": "base",
   "language": "python",
   "name": "python3"
  },
  "language_info": {
   "codemirror_mode": {
    "name": "ipython",
    "version": 3
   },
   "file_extension": ".py",
   "mimetype": "text/x-python",
   "name": "python",
   "nbconvert_exporter": "python",
   "pygments_lexer": "ipython3",
   "version": "3.13.5"
  }
 },
 "nbformat": 4,
 "nbformat_minor": 1
}
