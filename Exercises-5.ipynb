{
 "cells": [
  {
   "cell_type": "code",
   "execution_count": 78,
   "metadata": {},
   "outputs": [],
   "source": [
    "%matplotlib inline\n",
    "import pandas as pd\n",
    "import matplotlib.pyplot as plt\n",
    "import numpy as np"
   ]
  },
  {
   "cell_type": "code",
   "execution_count": 79,
   "metadata": {},
   "outputs": [
    {
     "data": {
      "text/html": [
       "<style>body {\n",
       "    margin: 0;\n",
       "    font-family: Helvetica;\n",
       "}\n",
       "table.dataframe {\n",
       "    border-collapse: collapse;\n",
       "    border: none;\n",
       "}\n",
       "table.dataframe tr {\n",
       "    border: none;\n",
       "}\n",
       "table.dataframe td, table.dataframe th {\n",
       "    margin: 0;\n",
       "    border: 1px solid white;\n",
       "    padding-left: 0.25em;\n",
       "    padding-right: 0.25em;\n",
       "}\n",
       "table.dataframe th:not(:empty) {\n",
       "    background-color: #fec;\n",
       "    text-align: left;\n",
       "    font-weight: normal;\n",
       "}\n",
       "table.dataframe tr:nth-child(2) th:empty {\n",
       "    border-left: none;\n",
       "    border-right: 1px dashed #888;\n",
       "}\n",
       "table.dataframe td {\n",
       "    border: 2px solid #ccf;\n",
       "    background-color: #f4f4ff;\n",
       "}\n",
       "h3 {\n",
       "    color: white;\n",
       "    background-color: black;\n",
       "    padding: 0.5em;\n",
       "}\n",
       "</style>"
      ],
      "text/plain": [
       "<IPython.core.display.HTML object>"
      ]
     },
     "execution_count": 79,
     "metadata": {},
     "output_type": "execute_result"
    }
   ],
   "source": [
    "from IPython.core.display import HTML\n",
    "css = open('style-table.css').read() + open('style-notebook.css').read()\n",
    "HTML('<style>{}</style>'.format(css))"
   ]
  },
  {
   "cell_type": "code",
   "execution_count": 80,
   "metadata": {},
   "outputs": [
    {
     "name": "stdout",
     "output_type": "stream",
     "text": [
      "                  title  year      name   type                character     n\n",
      "0        Closet Monster  2015  Buffy #1  actor                  Buffy 4  31.0\n",
      "1       Suuri illusioni  1985    Homo $  actor                   Guests  22.0\n",
      "2   Battle of the Sexes  2017   $hutter  actor          Bobby Riggs Fan  10.0\n",
      "3  Secret in Their Eyes  2015   $hutter  actor          2002 Dodger Fan   NaN\n",
      "4            Steve Jobs  2015   $hutter  actor  1988 Opera House Patron   NaN\n"
     ]
    }
   ],
   "source": [
    "cast = pd.read_csv(r'D:\\Downloads\\pycon-pandas-tutorial-master\\data\\cast.csv')\n",
    "print(cast.head())"
   ]
  },
  {
   "cell_type": "code",
   "execution_count": 81,
   "metadata": {},
   "outputs": [
    {
     "name": "stderr",
     "output_type": "stream",
     "text": [
      "C:\\Users\\addis\\AppData\\Local\\Temp\\ipykernel_40396\\1972475482.py:1: FutureWarning: The argument 'infer_datetime_format' is deprecated and will be removed in a future version. A strict version of it is now the default, see https://pandas.pydata.org/pdeps/0004-consistent-to-datetime-parsing.html. You can safely remove this argument.\n",
      "  release_dates = pd.read_csv(\n"
     ]
    },
    {
     "name": "stdout",
     "output_type": "stream",
     "text": [
      "                    title  year      country       date month  day    dayname  \\\n",
      "0   #73, Shaanthi Nivaasa  2007        India 2007-06-15   Jun    4     Friday   \n",
      "1                   #BKKY  2016     Cambodia 2017-10-12   Oct    3   Thursday   \n",
      "2                 #Beings  2015      Romania 2015-01-29   Jan    3   Thursday   \n",
      "3               #Captured  2017          USA 2017-09-05   Sep    1    Tuesday   \n",
      "4  #Ewankosau saranghaeyo  2015  Philippines 2015-01-21   Jan    2  Wednesday   \n",
      "\n",
      "   month_number  \n",
      "0             6  \n",
      "1            10  \n",
      "2             1  \n",
      "3             9  \n",
      "4             1  \n"
     ]
    }
   ],
   "source": [
    "release_dates = pd.read_csv(\n",
    "    r'D:\\Downloads\\pycon-pandas-tutorial-master\\data\\release_dates.csv',\n",
    "    parse_dates=['date'],\n",
    "    infer_datetime_format=True,\n",
    ")\n",
    "release_dates['month'] = release_dates['date'].dt.strftime('%b')\n",
    "release_dates['day'] = release_dates['date'].dt.dayofweek\n",
    "release_dates['dayname'] = release_dates['date'].dt.day_name()\n",
    "release_dates['month_number'] = release_dates['date'].dt.month\n",
    "print(release_dates.head())"
   ]
  },
  {
   "cell_type": "code",
   "execution_count": null,
   "metadata": {
    "collapsed": true
   },
   "outputs": [],
   "source": []
  },
  {
   "cell_type": "markdown",
   "metadata": {
    "collapsed": true
   },
   "source": [
    "### Make a bar plot of the months in which movies with \"Christmas\" in their title tend to be released in the USA."
   ]
  },
  {
   "cell_type": "code",
   "execution_count": 82,
   "metadata": {
    "collapsed": true
   },
   "outputs": [
    {
     "data": {
      "image/png": "[encoded data removed]",
      "text/plain": [
       "<Figure size 1000x600 with 1 Axes>"
      ]
     },
     "metadata": {},
     "output_type": "display_data"
    }
   ],
   "source": [
    "usa_christmas_movies = (\n",
    "    release_dates\n",
    "    .loc[(release_dates['title']\n",
    "         .str\n",
    "         .contains('Christmas',\n",
    "                   case=False, \n",
    "                   na=False)) &\n",
    "        (release_dates['country'] == 'USA')]\n",
    ")\n",
    "\n",
    "usa_christmas_movies_pivot = (\n",
    "    usa_christmas_movies.\n",
    "    pivot_table(\n",
    "        index=['month', 'month_number'],\n",
    "        values='title',\n",
    "        aggfunc='count'\n",
    "    )\n",
    "    .reset_index()\n",
    "    .sort_values('month_number')\n",
    ")\n",
    "\n",
    "usa_christmas_movies_pivot.set_index('month')['title'].plot(kind='bar', figsize=(10, 6))\n",
    "plt.legend()\n",
    "plt.xlabel('')\n",
    "plt.xticks(rotation=45, ha='right')\n",
    "plt.ylabel('Number of Movies')\n",
    "plt.title('USA Christmas Movies per Month')\n",
    "plt.show()"
   ]
  },
  {
   "cell_type": "markdown",
   "metadata": {
    "collapsed": true
   },
   "source": [
    "### Make a bar plot of the months in which movies whose titles start with \"The Hobbit\" are released in the USA."
   ]
  },
  {
   "cell_type": "code",
   "execution_count": 83,
   "metadata": {
    "collapsed": true
   },
   "outputs": [
    {
     "data": {
      "text/plain": [
       "<Axes: xlabel='month'>"
      ]
     },
     "execution_count": 83,
     "metadata": {},
     "output_type": "execute_result"
    },
    {
     "data": {
      "image/png": "[encoded data removed]",
      "text/plain": [
       "<Figure size 640x480 with 1 Axes>"
      ]
     },
     "metadata": {},
     "output_type": "display_data"
    }
   ],
   "source": [
    "usa_hobbit_movies = (\n",
    "    release_dates.loc[\n",
    "        (\n",
    "            release_dates['title']\n",
    "            .str.startswith('The Hobbit'\n",
    "                        ) \n",
    "        )\n",
    "        &\n",
    "        (\n",
    "            release_dates['country'] == 'USA'\n",
    "        )\n",
    "    ]\n",
    ")\n",
    "\n",
    "usa_hobbit_movies_pivot = (\n",
    "    usa_hobbit_movies.\n",
    "    pivot_table(\n",
    "        index='month',\n",
    "        values='title',\n",
    "        aggfunc='count'\n",
    "    )\n",
    ")\n",
    "\n",
    "usa_hobbit_movies_pivot.plot(kind='bar')"
   ]
  },
  {
   "cell_type": "code",
   "execution_count": null,
   "metadata": {
    "collapsed": true
   },
   "outputs": [],
   "source": []
  },
  {
   "cell_type": "markdown",
   "metadata": {
    "collapsed": true
   },
   "source": [
    "### Make a bar plot of the day of the week on which movies with \"Romance\" in their title tend to be released in the USA."
   ]
  },
  {
   "cell_type": "code",
   "execution_count": 84,
   "metadata": {
    "collapsed": true
   },
   "outputs": [
    {
     "data": {
      "image/png": "[encoded data removed]",
      "text/plain": [
       "<Figure size 1000x600 with 1 Axes>"
      ]
     },
     "metadata": {},
     "output_type": "display_data"
    }
   ],
   "source": [
    "romance_movies = (\n",
    "    release_dates\n",
    "    .loc[\n",
    "        (release_dates['title']\n",
    "         .str\n",
    "         .contains('Romance',\n",
    "                   case=False, \n",
    "                   na=False)) &\n",
    "        (release_dates['country'] == 'USA')\n",
    "                   ]\n",
    "    \n",
    ")\n",
    "\n",
    "romance_movies_pivot = (\n",
    "    romance_movies.\n",
    "    pivot_table(index='day',\n",
    "                values='title',\n",
    "                aggfunc='count')\n",
    ")\n",
    "\n",
    "romance_movies_pivot.plot(kind='bar', figsize=(10, 6))\n",
    "plt.legend().remove()\n",
    "plt.title('Romance movies released by day in USA')\n",
    "plt.xlabel('')\n",
    "plt.ylabel('Number of Movies')\n",
    "plt.xticks(rotation=45, ha='right')\n",
    "plt.show()"
   ]
  },
  {
   "cell_type": "markdown",
   "metadata": {
    "collapsed": true
   },
   "source": [
    "### Make a bar plot of the day of the week on which movies with \"Action\" in their title tend to be released in the USA."
   ]
  },
  {
   "cell_type": "code",
   "execution_count": 85,
   "metadata": {
    "collapsed": true
   },
   "outputs": [
    {
     "data": {
      "image/png": "[encoded data removed]",
      "text/plain": [
       "<Figure size 1000x600 with 1 Axes>"
      ]
     },
     "metadata": {},
     "output_type": "display_data"
    }
   ],
   "source": [
    "action_movies = (\n",
    "    release_dates.loc[\n",
    "        (\n",
    "                release_dates['title']\n",
    "            .str\n",
    "            .contains(\n",
    "                'Action',\n",
    "                case=False,\n",
    "                na=False\n",
    "            )\n",
    "        ) &\n",
    "        (\n",
    "            release_dates['country'] == 'USA'\n",
    "        )\n",
    "    ]\n",
    ")\n",
    "\n",
    "action_movies_pivot = (\n",
    "    action_movies.\n",
    "    pivot_table(\n",
    "        index=['day', 'dayname'],\n",
    "        aggfunc={\n",
    "            'title': 'count'\n",
    "        }\n",
    "    )\n",
    "    .reset_index()\n",
    "    .sort_values('day')\n",
    ")\n",
    "\n",
    "action_movies_pivot.set_index('dayname')['title'].plot(kind='bar', figsize=(10, 6))\n",
    "plt.legend().remove()\n",
    "plt.title('Action movies released by day in USA')\n",
    "plt.xlabel('')\n",
    "plt.xticks(rotation=45, ha='right')\n",
    "plt.ylabel('Number of Movies')\n",
    "plt.show()"
   ]
  },
  {
   "cell_type": "code",
   "execution_count": null,
   "metadata": {
    "collapsed": true
   },
   "outputs": [],
   "source": []
  },
  {
   "cell_type": "markdown",
   "metadata": {
    "collapsed": true
   },
   "source": [
    "### On which date was each Judi Dench movie from the 1990s released in the USA?"
   ]
  },
  {
   "cell_type": "code",
   "execution_count": 86,
   "metadata": {
    "collapsed": true
   },
   "outputs": [
    {
     "data": {
      "text/html": [
       "<div>\n",
       "<style scoped>\n",
       "    .dataframe tbody tr th:only-of-type {\n",
       "        vertical-align: middle;\n",
       "    }\n",
       "\n",
       "    .dataframe tbody tr th {\n",
       "        vertical-align: top;\n",
       "    }\n",
       "\n",
       "    .dataframe thead th {\n",
       "        text-align: right;\n",
       "    }\n",
       "</style>\n",
       "<table border=\"1\" class=\"dataframe\">\n",
       "  <thead>\n",
       "    <tr style=\"text-align: right;\">\n",
       "      <th></th>\n",
       "      <th>title</th>\n",
       "      <th>year</th>\n",
       "      <th>name</th>\n",
       "      <th>type</th>\n",
       "      <th>character</th>\n",
       "      <th>n</th>\n",
       "      <th>country</th>\n",
       "      <th>date</th>\n",
       "      <th>month</th>\n",
       "      <th>day</th>\n",
       "      <th>dayname</th>\n",
       "      <th>month_number</th>\n",
       "    </tr>\n",
       "  </thead>\n",
       "  <tbody>\n",
       "    <tr>\n",
       "      <th>14085621</th>\n",
       "      <td>GoldenEye</td>\n",
       "      <td>1995</td>\n",
       "      <td>Judi Dench</td>\n",
       "      <td>actress</td>\n",
       "      <td>M</td>\n",
       "      <td>6.0</td>\n",
       "      <td>USA</td>\n",
       "      <td>1995-11-17</td>\n",
       "      <td>Nov</td>\n",
       "      <td>4</td>\n",
       "      <td>Friday</td>\n",
       "      <td>11</td>\n",
       "    </tr>\n",
       "    <tr>\n",
       "      <th>14085820</th>\n",
       "      <td>Jack &amp; Sarah</td>\n",
       "      <td>1995</td>\n",
       "      <td>Judi Dench</td>\n",
       "      <td>actress</td>\n",
       "      <td>Margaret</td>\n",
       "      <td>3.0</td>\n",
       "      <td>USA</td>\n",
       "      <td>1996-03-22</td>\n",
       "      <td>Mar</td>\n",
       "      <td>4</td>\n",
       "      <td>Friday</td>\n",
       "      <td>3</td>\n",
       "    </tr>\n",
       "    <tr>\n",
       "      <th>14085660</th>\n",
       "      <td>Hamlet</td>\n",
       "      <td>1996</td>\n",
       "      <td>Judi Dench</td>\n",
       "      <td>actress</td>\n",
       "      <td>Hecuba</td>\n",
       "      <td>12.0</td>\n",
       "      <td>USA</td>\n",
       "      <td>1996-12-25</td>\n",
       "      <td>Dec</td>\n",
       "      <td>2</td>\n",
       "      <td>Wednesday</td>\n",
       "      <td>12</td>\n",
       "    </tr>\n",
       "    <tr>\n",
       "      <th>14085937</th>\n",
       "      <td>Mrs Brown</td>\n",
       "      <td>1997</td>\n",
       "      <td>Judi Dench</td>\n",
       "      <td>actress</td>\n",
       "      <td>Queen Victoria</td>\n",
       "      <td>1.0</td>\n",
       "      <td>USA</td>\n",
       "      <td>1997-10-03</td>\n",
       "      <td>Oct</td>\n",
       "      <td>4</td>\n",
       "      <td>Friday</td>\n",
       "      <td>10</td>\n",
       "    </tr>\n",
       "    <tr>\n",
       "      <th>14086904</th>\n",
       "      <td>Tomorrow Never Dies</td>\n",
       "      <td>1997</td>\n",
       "      <td>Judi Dench</td>\n",
       "      <td>actress</td>\n",
       "      <td>M</td>\n",
       "      <td>9.0</td>\n",
       "      <td>USA</td>\n",
       "      <td>1997-12-19</td>\n",
       "      <td>Dec</td>\n",
       "      <td>4</td>\n",
       "      <td>Friday</td>\n",
       "      <td>12</td>\n",
       "    </tr>\n",
       "    <tr>\n",
       "      <th>14086402</th>\n",
       "      <td>Shakespeare in Love</td>\n",
       "      <td>1998</td>\n",
       "      <td>Judi Dench</td>\n",
       "      <td>actress</td>\n",
       "      <td>Queen Elizabeth</td>\n",
       "      <td>12.0</td>\n",
       "      <td>USA</td>\n",
       "      <td>1999-01-08</td>\n",
       "      <td>Jan</td>\n",
       "      <td>4</td>\n",
       "      <td>Friday</td>\n",
       "      <td>1</td>\n",
       "    </tr>\n",
       "    <tr>\n",
       "      <th>14086602</th>\n",
       "      <td>Tea with Mussolini</td>\n",
       "      <td>1999</td>\n",
       "      <td>Judi Dench</td>\n",
       "      <td>actress</td>\n",
       "      <td>Arabella</td>\n",
       "      <td>2.0</td>\n",
       "      <td>USA</td>\n",
       "      <td>1999-05-14</td>\n",
       "      <td>May</td>\n",
       "      <td>4</td>\n",
       "      <td>Friday</td>\n",
       "      <td>5</td>\n",
       "    </tr>\n",
       "    <tr>\n",
       "      <th>14086831</th>\n",
       "      <td>The World Is Not Enough</td>\n",
       "      <td>1999</td>\n",
       "      <td>Judi Dench</td>\n",
       "      <td>actress</td>\n",
       "      <td>M</td>\n",
       "      <td>6.0</td>\n",
       "      <td>USA</td>\n",
       "      <td>1999-11-19</td>\n",
       "      <td>Nov</td>\n",
       "      <td>4</td>\n",
       "      <td>Friday</td>\n",
       "      <td>11</td>\n",
       "    </tr>\n",
       "  </tbody>\n",
       "</table>\n",
       "</div>"
      ],
      "text/plain": [
       "                            title  year        name     type        character  \\\n",
       "14085621                GoldenEye  1995  Judi Dench  actress                M   \n",
       "14085820             Jack & Sarah  1995  Judi Dench  actress         Margaret   \n",
       "14085660                   Hamlet  1996  Judi Dench  actress           Hecuba   \n",
       "14085937                Mrs Brown  1997  Judi Dench  actress   Queen Victoria   \n",
       "14086904      Tomorrow Never Dies  1997  Judi Dench  actress                M   \n",
       "14086402      Shakespeare in Love  1998  Judi Dench  actress  Queen Elizabeth   \n",
       "14086602       Tea with Mussolini  1999  Judi Dench  actress         Arabella   \n",
       "14086831  The World Is Not Enough  1999  Judi Dench  actress                M   \n",
       "\n",
       "             n country       date month  day    dayname  month_number  \n",
       "14085621   6.0     USA 1995-11-17   Nov    4     Friday            11  \n",
       "14085820   3.0     USA 1996-03-22   Mar    4     Friday             3  \n",
       "14085660  12.0     USA 1996-12-25   Dec    2  Wednesday            12  \n",
       "14085937   1.0     USA 1997-10-03   Oct    4     Friday            10  \n",
       "14086904   9.0     USA 1997-12-19   Dec    4     Friday            12  \n",
       "14086402  12.0     USA 1999-01-08   Jan    4     Friday             1  \n",
       "14086602   2.0     USA 1999-05-14   May    4     Friday             5  \n",
       "14086831   6.0     USA 1999-11-19   Nov    4     Friday            11  "
      ]
     },
     "execution_count": 86,
     "metadata": {},
     "output_type": "execute_result"
    }
   ],
   "source": [
    "cast_release_merged = pd.merge(cast, \n",
    "                               release_dates, \n",
    "                               on=['title', 'year'],\n",
    "                               how='inner')\n",
    "judi_dench_movies = (\n",
    "    cast_release_merged\n",
    "    .loc[cast_release_merged['name']\n",
    "         .str\n",
    "         .contains('Judi Dench',\n",
    "                   na=False, \n",
    "                   case=False)]\n",
    "                   )\n",
    "\n",
    "judi_dench_movies_1990usa = (\n",
    "    judi_dench_movies\n",
    "    .loc[(judi_dench_movies['year']\n",
    "         .between(1990, 1999)\n",
    "         ) &\n",
    "         (judi_dench_movies['country'] == 'USA')]\n",
    "         )\n",
    "\n",
    "judi_dench_movies_1990usa.sort_values('year', ascending=True)"
   ]
  },
  {
   "cell_type": "markdown",
   "metadata": {
    "collapsed": true
   },
   "source": [
    "### In which months do films with Judi Dench tend to be released in the USA?"
   ]
  },
  {
   "cell_type": "code",
   "execution_count": 87,
   "metadata": {
    "collapsed": true
   },
   "outputs": [
    {
     "data": {
      "text/plain": [
       "<Axes: xlabel='month'>"
      ]
     },
     "execution_count": 87,
     "metadata": {},
     "output_type": "execute_result"
    },
    {
     "data": {
      "image/png": "[encoded data removed]",
      "text/plain": [
       "<Figure size 640x480 with 1 Axes>"
      ]
     },
     "metadata": {},
     "output_type": "display_data"
    }
   ],
   "source": [
    "judi_dench_month = (judi_dench_movies_1990usa.pivot_table(\n",
    "    index=['month', 'month_number'],\n",
    "    values='title',\n",
    "    aggfunc='count'\n",
    ")\n",
    "    .reset_index()\n",
    "    .sort_values('month_number'))\n",
    "\n",
    "judi_dench_month.set_index('month')['title'].plot(kind='bar')"
   ]
  },
  {
   "cell_type": "code",
   "execution_count": 88,
   "metadata": {
    "collapsed": true
   },
   "outputs": [
    {
     "data": {
      "text/html": [
       "<div>\n",
       "<style scoped>\n",
       "    .dataframe tbody tr th:only-of-type {\n",
       "        vertical-align: middle;\n",
       "    }\n",
       "\n",
       "    .dataframe tbody tr th {\n",
       "        vertical-align: top;\n",
       "    }\n",
       "\n",
       "    .dataframe thead th {\n",
       "        text-align: right;\n",
       "    }\n",
       "</style>\n",
       "<table border=\"1\" class=\"dataframe\">\n",
       "  <thead>\n",
       "    <tr style=\"text-align: right;\">\n",
       "      <th></th>\n",
       "      <th>month</th>\n",
       "      <th>month_number</th>\n",
       "      <th>title</th>\n",
       "    </tr>\n",
       "  </thead>\n",
       "  <tbody>\n",
       "    <tr>\n",
       "      <th>1</th>\n",
       "      <td>Jan</td>\n",
       "      <td>1</td>\n",
       "      <td>1</td>\n",
       "    </tr>\n",
       "    <tr>\n",
       "      <th>2</th>\n",
       "      <td>Mar</td>\n",
       "      <td>3</td>\n",
       "      <td>1</td>\n",
       "    </tr>\n",
       "    <tr>\n",
       "      <th>3</th>\n",
       "      <td>May</td>\n",
       "      <td>5</td>\n",
       "      <td>1</td>\n",
       "    </tr>\n",
       "    <tr>\n",
       "      <th>5</th>\n",
       "      <td>Oct</td>\n",
       "      <td>10</td>\n",
       "      <td>1</td>\n",
       "    </tr>\n",
       "    <tr>\n",
       "      <th>4</th>\n",
       "      <td>Nov</td>\n",
       "      <td>11</td>\n",
       "      <td>2</td>\n",
       "    </tr>\n",
       "    <tr>\n",
       "      <th>0</th>\n",
       "      <td>Dec</td>\n",
       "      <td>12</td>\n",
       "      <td>2</td>\n",
       "    </tr>\n",
       "  </tbody>\n",
       "</table>\n",
       "</div>"
      ],
      "text/plain": [
       "  month  month_number  title\n",
       "1   Jan             1      1\n",
       "2   Mar             3      1\n",
       "3   May             5      1\n",
       "5   Oct            10      1\n",
       "4   Nov            11      2\n",
       "0   Dec            12      2"
      ]
     },
     "execution_count": 88,
     "metadata": {},
     "output_type": "execute_result"
    }
   ],
   "source": [
    "judi_dench_month"
   ]
  },
  {
   "cell_type": "markdown",
   "metadata": {
    "collapsed": true
   },
   "source": [
    "### In which months do films with Tom Cruise tend to be released in the USA?"
   ]
  },
  {
   "cell_type": "code",
   "execution_count": 92,
   "metadata": {
    "collapsed": true
   },
   "outputs": [
    {
     "data": {
      "image/png": "[encoded data removed]",
      "text/plain": [
       "<Figure size 640x480 with 1 Axes>"
      ]
     },
     "metadata": {},
     "output_type": "display_data"
    }
   ],
   "source": [
    "tom_cruise_movies = (\n",
    "    cast_release_merged.\n",
    "    loc[\n",
    "        (cast_release_merged['name']=='Tom Cruise') &\n",
    "        (cast_release_merged['country'] == 'USA')\n",
    "    ]\n",
    ")\n",
    "\n",
    "\n",
    "\n",
    "tom_cruise_pivot = (\n",
    "    tom_cruise_movies\n",
    "    .pivot_table(\n",
    "        index=['month', 'month_number'],\n",
    "        values='title',\n",
    "        aggfunc='count'\n",
    "    )\n",
    "    .reset_index()\n",
    "    .sort_values('month_number')\n",
    ")\n",
    "\n",
    "tom_cruise_pivot.set_index('month')['title'].plot(kind='bar')\n",
    "plt.xlabel('')\n",
    "plt.xticks(rotation= 45, ha='right')\n",
    "plt.ylabel('Number of Movies')\n",
    "plt.title('Tom Cruise USA movies by month')\n",
    "plt.legend().remove()\n",
    "plt.show()"
   ]
  }
 ],
 "metadata": {
  "kernelspec": {
   "display_name": "base",
   "language": "python",
   "name": "python3"
  },
  "language_info": {
   "codemirror_mode": {
    "name": "ipython",
    "version": 3
   },
   "file_extension": ".py",
   "mimetype": "text/x-python",
   "name": "python",
   "nbconvert_exporter": "python",
   "pygments_lexer": "ipython3",
   "version": "3.13.5"
  }
 },
 "nbformat": 4,
 "nbformat_minor": 1
}
