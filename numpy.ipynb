{
 "cells": [
  {
   "cell_type": "code",
   "execution_count": 1,
   "id": "b87ee410",
   "metadata": {},
   "outputs": [],
   "source": [
    "import numpy as np\n"
   ]
  },
  {
   "cell_type": "code",
   "execution_count": 5,
   "id": "b740cc97",
   "metadata": {},
   "outputs": [],
   "source": [
    "array = np.array([[['A', 'B', 'C'], ['D', 'E', 'F'], ['G', 'H', 'I']],\n",
    "                  [['J', 'K', 'L'], ['M', 'N', 'O'], ['P', 'Q', 'R']],\n",
    "                  [['S', 'T', 'U'], ['V', 'W', 'X'], ['Y', 'Z', '_']]])"
   ]
  },
  {
   "cell_type": "code",
   "execution_count": 10,
   "id": "c314575c",
   "metadata": {},
   "outputs": [
    {
     "name": "stdout",
     "output_type": "stream",
     "text": [
      "JACKSTONE\n"
     ]
    }
   ],
   "source": [
    "word = (array[1, 0, 0] + \n",
    "        array[0, 0, 0] + \n",
    "        array[0, 0 , 2] + \n",
    "        array[1, 0, 1] + \n",
    "        array[2, 0, 0] +\n",
    "        array[2, 0, 1] + \n",
    "        array[1, 1, 2] +\n",
    "        array[1, 1, 1] +\n",
    "        array[0, 1 ,1])\n",
    "print(word)"
   ]
  },
  {
   "cell_type": "code",
   "execution_count": null,
   "id": "650667e3",
   "metadata": {},
   "outputs": [],
   "source": []
  }
 ],
 "metadata": {
  "kernelspec": {
   "display_name": "base",
   "language": "python",
   "name": "python3"
  },
  "language_info": {
   "codemirror_mode": {
    "name": "ipython",
    "version": 3
   },
   "file_extension": ".py",
   "mimetype": "text/x-python",
   "name": "python",
   "nbconvert_exporter": "python",
   "pygments_lexer": "ipython3",
   "version": "3.13.5"
  }
 },
 "nbformat": 4,
 "nbformat_minor": 5
}
